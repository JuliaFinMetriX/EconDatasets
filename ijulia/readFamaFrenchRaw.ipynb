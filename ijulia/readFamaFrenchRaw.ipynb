{
 "metadata": {
  "language": "Julia",
  "name": "",
  "signature": "sha256:b58575f34248f461c494e147847cd5b8907012ccc2fb709b53f46e9c65d5224c"
 },
 "nbformat": 3,
 "nbformat_minor": 0,
 "worksheets": [
  {
   "cells": [
    {
     "cell_type": "heading",
     "level": 2,
     "metadata": {},
     "source": [
      "Accessible data"
     ]
    },
    {
     "cell_type": "markdown",
     "metadata": {},
     "source": [
      "The function tries to make data from Kenneth R. French's data [library](http://mba.tuck.dartmouth.edu/pages/faculty/ken.french/data_library.html) accessible. "
     ]
    },
    {
     "cell_type": "heading",
     "level": 2,
     "metadata": {},
     "source": [
      "What the function expects"
     ]
    },
    {
     "cell_type": "markdown",
     "metadata": {},
     "source": [
      "The function expects to find a .zip file which contains a .txt file of data. Thereby the .txt file starts with a description of the data, and lists several data sets afterwards. The individual data sets are separated by empty lines, and each data set has one header line followed by one or two lines of column names. The first column of the data contains dates given without any separator.\n",
      "\n",
      "The obstacle for full automation was dealing with the column names, since a single variable name sometimes may consist of two parts separated by whitespace. Hence, it is very difficult to tell automatically, whether two separated strings refer to two different column names or just one single column name.\n",
      "\n",
      "As an example, the following cell shows an extract of data *6 Portfolios formed on size and momentum (2 x 3)*:"
     ]
    },
    {
     "cell_type": "raw",
     "metadata": {},
     "source": [
      "This file was created by CMPT_ME_PRIOR_RETS using the 201405 CRSP database.\n",
      "It contains value- weighted returns for the intersections of  2 ME portfolios\n",
      "and  3 prior return portfolios.\n",
      "\n",
      "The portfolios are constructed monthly.  ME is market cap at the end of the\n",
      "previous month.  PRIOR_RET is from -12 to - 2.\n",
      "\n",
      "Missing data are indicated by -99.99 or -999.\n",
      "\n",
      "\n",
      "  Average Value Weighted Returns -- Monthly\n",
      "               Small                 Big         \n",
      "          Low     2    High    Low     2    High \n",
      "192701   0.01   3.79   0.39  -0.63   0.23   0.00\n",
      "192702   7.13   6.24   5.75   5.59   3.78   4.49\n",
      "192703  -3.26  -2.95  -2.30  -7.66  -0.22   2.29\n",
      "192704  -0.56  -0.96   3.36  -1.90   0.78   1.89\n",
      "192705   2.47  11.39   7.00   4.21   4.87   7.10\n",
      "                          .\n",
      "                          .\n",
      "                          .\n",
      "201401  -2.48  -3.55  -2.59  -5.00  -3.35  -1.51\n",
      "201402   3.90   4.12   5.49   3.90   4.13   6.62\n",
      "201403   0.61   1.50  -1.20   2.02   1.63  -2.72\n",
      "201404  -2.45  -3.03  -5.27   2.70   0.73  -2.23\n",
      "201405   0.64   0.89  -0.50   0.61   2.40   3.43\n",
      "\n",
      "\n",
      "  Average Equal Weighted Returns -- Monthly\n",
      "               Small                 Big         \n",
      "          Low     2    High    Low     2    High \n",
      "192701   1.77   3.33  -0.81   0.36   0.62   0.95\n",
      "192702   6.82   6.46   6.08   7.93   4.98   5.10\n",
      "192703  -4.55  -1.02  -3.56  -4.46  -1.19   0.63\n",
      "192704   2.13  -1.05   3.51  -1.74   0.95   1.33\n",
      "192705   2.72  11.36   7.54   5.51   4.60   8.43\n",
      "192706  -2.86  -1.33  -2.61  -4.19  -1.66  -1.59\n",
      "192707   5.32   4.88   6.45   6.01   6.72   6.85"
     ]
    },
    {
     "cell_type": "code",
     "collapsed": false,
     "input": [
      "dataUrl = \"http://mba.tuck.dartmouth.edu/pages/faculty/ken.french/ftp/6_Portfolios_ME_Prior_12_2.zip\"\n",
      "(data, dataNames, varnames) = readFamaFrenchRaw(dataUrl)\n",
      "\n",
      "dataNames"
     ],
     "language": "python",
     "metadata": {},
     "outputs": [
      {
       "output_type": "stream",
       "stream": "stderr",
       "text": [
        "--2014-07-16 17:13:13--  http://mba.tuck.dartmouth.edu/pages/faculty/ken.french/ftp/6_Portfolios_ME_Prior_12_2.zip\n"
       ]
      },
      {
       "output_type": "stream",
       "stream": "stderr",
       "text": [
        "Resolving mba.tuck.dartmouth.edu (mba.tuck.dartmouth.edu)... 129.170.38.49\n",
        "Connecting to mba.tuck.dartmouth.edu (mba.tuck.dartmouth.edu)|129.170.38.49|:80... "
       ]
      },
      {
       "output_type": "stream",
       "stream": "stderr",
       "text": [
        "connected.\n",
        "HTTP request sent, awaiting response... "
       ]
      },
      {
       "output_type": "stream",
       "stream": "stderr",
       "text": [
        "200 OK\n",
        "Length: 104862 (102K) [application/x-zip-compressed]\n",
        "Saving to: `/tmp/juliaF1gD0Z'\n",
        "\n",
        "     0K .."
       ]
      },
      {
       "output_type": "stream",
       "stream": "stderr",
       "text": [
        "...."
       ]
      },
      {
       "output_type": "stream",
       "stream": "stderr",
       "text": [
        ".."
       ]
      },
      {
       "output_type": "stream",
       "stream": "stderr",
       "text": [
        ".. ........"
       ]
      },
      {
       "output_type": "stream",
       "stream": "stderr",
       "text": [
        ".. .......... ..."
       ]
      },
      {
       "output_type": "stream",
       "stream": "stderr",
       "text": [
        ".."
       ]
      },
      {
       "output_type": "stream",
       "stream": "stderr",
       "text": [
        "..... .......... 48% 86.7K 1s\n",
        "    50K ........."
       ]
      },
      {
       "output_type": "stream",
       "stream": "stderr",
       "text": [
        ". .......... .......... .......... ....."
       ]
      },
      {
       "output_type": "stream",
       "stream": "stdout",
       "text": [
        "Archive:  /tmp/juliaF1gD0Z\n"
       ]
      },
      {
       "output_type": "stream",
       "stream": "stdout",
       "text": [
        "  inflating: /tmp/6_Portfolios_ME_Prior_12_2.txt  \n"
       ]
      },
      {
       "output_type": "stream",
       "stream": "stderr",
       "text": [
        "..... 97%  178K 0s\n",
        "   100K ..                                                    100% 10.3M=0.9s\n",
        "\n",
        "2014-07-16 17:13:14 (119 KB/s) - `/tmp/juliaF1gD0Z' saved [104862/104862]\n",
        "\n"
       ]
      },
      {
       "metadata": {},
       "output_type": "pyout",
       "prompt_number": 10,
       "text": [
        "8-element Array{Symbol,1}:\n",
        " symbol(\"  Average Value Weighted Returns -- Monthly\\r\\n\")\n",
        " symbol(\"  Average Equal Weighted Returns -- Monthly\\r\\n\")\n",
        " symbol(\"  Average Value Weighted Returns -- Annual\\r\\n\") \n",
        " symbol(\"  Average Equal Weighted Returns -- Annual\\r\\n\") \n",
        " symbol(\"  Number of Firms in Portfolios\\r\\n\")            \n",
        " symbol(\"  Average Firm Size\\r\\n\")                        \n",
        " symbol(\"  Equally-Weighted Average of Prior Returns\\r\\n\")\n",
        " symbol(\"  Value-Weighted Average of Prior Returns\\r\\n\")  "
       ]
      }
     ],
     "prompt_number": 10
    },
    {
     "cell_type": "code",
     "collapsed": false,
     "input": [
      "varnames"
     ],
     "language": "python",
     "metadata": {},
     "outputs": [
      {
       "metadata": {},
       "output_type": "pyout",
       "prompt_number": 11,
       "text": [
        "2-element Array{Union(UTF8String,ASCIIString),1}:\n",
        " \"               Small                 Big         \\r\\n\"\n",
        " \"          Low     2    High    Low     2    High \\r\\n\""
       ]
      }
     ],
     "prompt_number": 11
    },
    {
     "cell_type": "code",
     "collapsed": false,
     "input": [
      "data[1]"
     ],
     "language": "python",
     "metadata": {},
     "outputs": [
      {
       "html": [
        "<p><strong>Timematr{Date{ISOCalendar}}</strong></p><p>Dimensions: <strong>(1049, 6)</strong></p><p>From: <strong>1927-01-31</strong>, To: <strong>2014-05-31</strong></p><table class=\"data-frame\"><tr><th></th><th>idx</th><th>x1</th><th>x2</th><th>x3</th><th>x4</th><th>x5</th><th>x6</th></tr><tr><th>1</th><td>1927-01-31</td><td>0.01</td><td>3.79</td><td>0.39</td><td>-0.63</td><td>0.23</td><td>0.0</td></tr><tr><th>2</th><td>1927-02-28</td><td>7.13</td><td>6.24</td><td>5.75</td><td>5.59</td><td>3.78</td><td>4.49</td></tr><tr><th>3</th><td>1927-03-31</td><td>-3.26</td><td>-2.95</td><td>-2.3</td><td>-7.66</td><td>-0.22</td><td>2.29</td></tr><tr><th>4</th><td>1927-04-30</td><td>-0.56</td><td>-0.96</td><td>3.36</td><td>-1.9</td><td>0.78</td><td>1.89</td></tr><tr><th>5</th><td>1927-05-31</td><td>2.47</td><td>11.39</td><td>7.0</td><td>4.21</td><td>4.87</td><td>7.1</td></tr><tr><th>6</th><td>1927-06-30</td><td>-2.13</td><td>-0.89</td><td>-2.3</td><td>-0.74</td><td>-2.09</td><td>-1.86</td></tr><tr><th>7</th><td>1927-07-31</td><td>3.02</td><td>4.14</td><td>6.95</td><td>3.28</td><td>7.87</td><td>9.4</td></tr><tr><th>8</th><td>1927-08-31</td><td>-0.02</td><td>0.04</td><td>0.09</td><td>1.29</td><td>2.11</td><td>3.35</td></tr><tr><th>9</th><td>1927-09-30</td><td>2.5</td><td>0.35</td><td>2.82</td><td>3.36</td><td>4.88</td><td>6.23</td></tr><tr><th>10</th><td>1927-10-31</td><td>-4.34</td><td>-1.87</td><td>-3.52</td><td>-4.54</td><td>-3.39</td><td>-5.5</td></tr><tr><th>11</th><td>1927-11-30</td><td>11.52</td><td>8.56</td><td>6.98</td><td>5.1</td><td>6.61</td><td>8.35</td></tr><tr><th>12</th><td>1927-12-31</td><td>0.2</td><td>5.78</td><td>4.4</td><td>7.7</td><td>1.7</td><td>3.45</td></tr><tr><th>13</th><td>1928-01-31</td><td>3.25</td><td>3.62</td><td>0.73</td><td>-2.17</td><td>-0.47</td><td>-0.86</td></tr><tr><th>14</th><td>1928-02-29</td><td>-3.19</td><td>-2.28</td><td>-4.85</td><td>-0.76</td><td>-1.04</td><td>-1.35</td></tr><tr><th>15</th><td>1928-03-31</td><td>6.25</td><td>7.36</td><td>7.83</td><td>6.98</td><td>5.33</td><td>14.84</td></tr><tr><th>16</th><td>1928-04-30</td><td>7.88</td><td>10.47</td><td>6.14</td><td>11.24</td><td>4.05</td><td>2.03</td></tr><tr><th>17</th><td>1928-05-31</td><td>3.07</td><td>2.37</td><td>3.28</td><td>-1.5</td><td>1.06</td><td>3.7</td></tr><tr><th>18</th><td>1928-06-30</td><td>-9.31</td><td>-6.97</td><td>-6.14</td><td>-5.19</td><td>-4.07</td><td>-4.34</td></tr><tr><th>19</th><td>1928-07-31</td><td>-1.43</td><td>-0.32</td><td>1.76</td><td>-0.2</td><td>0.77</td><td>1.39</td></tr><tr><th>20</th><td>1928-08-31</td><td>4.52</td><td>4.18</td><td>6.58</td><td>4.4</td><td>6.21</td><td>9.67</td></tr><tr><th>21</th><td>1928-09-30</td><td>3.75</td><td>4.88</td><td>7.89</td><td>1.58</td><td>1.87</td><td>4.89</td></tr><tr><th>22</th><td>1928-10-31</td><td>0.08</td><td>1.39</td><td>5.48</td><td>0.85</td><td>0.78</td><td>3.69</td></tr><tr><th>23</th><td>1928-11-30</td><td>10.77</td><td>12.38</td><td>10.55</td><td>8.61</td><td>13.48</td><td>12.42</td></tr><tr><th>24</th><td>1928-12-31</td><td>-2.63</td><td>0.22</td><td>-1.56</td><td>-0.48</td><td>-0.05</td><td>1.67</td></tr><tr><th>25</th><td>1929-01-31</td><td>0.04</td><td>2.01</td><td>3.12</td><td>3.92</td><td>4.94</td><td>5.74</td></tr><tr><th>26</th><td>1929-02-28</td><td>-0.23</td><td>0.83</td><td>5.03</td><td>-0.65</td><td>-1.07</td><td>1.14</td></tr><tr><th>27</th><td>1929-03-31</td><td>-4.39</td><td>-5.66</td><td>-4.18</td><td>-0.24</td><td>0.92</td><td>-1.52</td></tr><tr><th>28</th><td>1929-04-30</td><td>1.91</td><td>-0.45</td><td>2.08</td><td>-1.74</td><td>1.7</td><td>2.75</td></tr><tr><th>29</th><td>1929-05-31</td><td>-10.67</td><td>-9.54</td><td>-13.01</td><td>-9.19</td><td>-4.48</td><td>-6.89</td></tr><tr><th>30</th><td>1929-06-30</td><td>3.97</td><td>6.66</td><td>11.36</td><td>5.01</td><td>7.64</td><td>14.44</td></tr><tr><th>&vellip;</th><td>&vellip;</td><td>&vellip;</td><td>&vellip;</td><td>&vellip;</td><td>&vellip;</td><td>&vellip;</td><td>&vellip;</td></tr></table>"
       ],
       "metadata": {},
       "output_type": "pyout",
       "prompt_number": 12,
       "text": [
        "Timematr{Date{ISOCalendar}}(1049x6 DataFrame\n",
        "|-------|-------|-------|-------|-------|-------|-------|\n",
        "| Row # | x1    | x2    | x3    | x4    | x5    | x6    |\n",
        "| 1     | 0.01  | 3.79  | 0.39  | -0.63 | 0.23  | 0.0   |\n",
        "| 2     | 7.13  | 6.24  | 5.75  | 5.59  | 3.78  | 4.49  |\n",
        "| 3     | -3.26 | -2.95 | -2.3  | -7.66 | -0.22 | 2.29  |\n",
        "| 4     | -0.56 | -0.96 | 3.36  | -1.9  | 0.78  | 1.89  |\n",
        "| 5     | 2.47  | 11.39 | 7.0   | 4.21  | 4.87  | 7.1   |\n",
        "| 6     | -2.13 | -0.89 | -2.3  | -0.74 | -2.09 | -1.86 |\n",
        "| 7     | 3.02  | 4.14  | 6.95  | 3.28  | 7.87  | 9.4   |\n",
        "| 8     | -0.02 | 0.04  | 0.09  | 1.29  | 2.11  | 3.35  |\n",
        "| 9     | 2.5   | 0.35  | 2.82  | 3.36  | 4.88  | 6.23  |\n",
        "| 10    | -4.34 | -1.87 | -3.52 | -4.54 | -3.39 | -5.5  |\n",
        "| 11    | 11.52 | 8.56  | 6.98  | 5.1   | 6.61  | 8.35  |\n",
        "\u22ee\n",
        "| 1038  | -0.32 | 0.3   | 0.51  | -2.66 | -0.55 | -2.19 |\n",
        "| 1039  | 7.23  | 7.29  | 8.27  | 4.74  | 5.08  | 7.07  |\n",
        "| 1040  | -3.2  | -3.05 | -2.42 | -2.25 | -2.79 | -2.92 |\n",
        "| 1041  | 5.05  | 5.76  | 7.45  | 1.93  | 3.86  | 5.58  |\n",
        "| 1042  | 2.14  | 3.52  | 2.25  | 3.49  | 5.13  | 3.7   |\n",
        "| 1043  | 4.84  | 4.97  | 4.47  | 2.35  | 3.18  | 3.46  |\n",
        "| 1044  | 2.89  | 1.63  | 2.76  | 2.82  | 2.48  | 3.04  |\n",
        "| 1045  | -2.48 | -3.55 | -2.59 | -5.0  | -3.35 | -1.51 |\n",
        "| 1046  | 3.9   | 4.12  | 5.49  | 3.9   | 4.13  | 6.62  |\n",
        "| 1047  | 0.61  | 1.5   | -1.2  | 2.02  | 1.63  | -2.72 |\n",
        "| 1048  | -2.45 | -3.03 | -5.27 | 2.7   | 0.73  | -2.23 |\n",
        "| 1049  | 0.64  | 0.89  | -0.5  | 0.61  | 2.4   | 3.43  |,[1927-01-31,1927-02-28,1927-03-31,1927-04-30,1927-05-31,1927-06-30,1927-07-31,1927-08-31,1927-09-30,1927-10-31  \u2026  2013-08-31,2013-09-30,2013-10-31,2013-11-30,2013-12-31,2014-01-31,2014-02-28,2014-03-31,2014-04-30,2014-05-31])"
       ]
      }
     ],
     "prompt_number": 12
    },
    {
     "cell_type": "code",
     "collapsed": false,
     "input": [
      "nams = [:MKT_RF, :SMB, :HML, :RF]\n",
      "for ii=1:length(data)\n",
      "    rename!(data[ii].vals, names(data[ii].vals), nams)\n",
      "end"
     ],
     "language": "python",
     "metadata": {},
     "outputs": [],
     "prompt_number": 13
    },
    {
     "cell_type": "code",
     "collapsed": false,
     "input": [
      "data[1]"
     ],
     "language": "python",
     "metadata": {},
     "outputs": [
      {
       "html": [
        "<p><strong>Timematr{Date{ISOCalendar}}</strong></p><p>Dimensions: <strong>(1049, 6)</strong></p><p>From: <strong>1927-01-31</strong>, To: <strong>2014-05-31</strong></p><table class=\"data-frame\"><tr><th></th><th>idx</th><th>MKT_RF</th><th>SMB</th><th>HML</th><th>RF</th><th>x5</th><th>x6</th></tr><tr><th>1</th><td>1927-01-31</td><td>0.01</td><td>3.79</td><td>0.39</td><td>-0.63</td><td>0.23</td><td>0.0</td></tr><tr><th>2</th><td>1927-02-28</td><td>7.13</td><td>6.24</td><td>5.75</td><td>5.59</td><td>3.78</td><td>4.49</td></tr><tr><th>3</th><td>1927-03-31</td><td>-3.26</td><td>-2.95</td><td>-2.3</td><td>-7.66</td><td>-0.22</td><td>2.29</td></tr><tr><th>4</th><td>1927-04-30</td><td>-0.56</td><td>-0.96</td><td>3.36</td><td>-1.9</td><td>0.78</td><td>1.89</td></tr><tr><th>5</th><td>1927-05-31</td><td>2.47</td><td>11.39</td><td>7.0</td><td>4.21</td><td>4.87</td><td>7.1</td></tr><tr><th>6</th><td>1927-06-30</td><td>-2.13</td><td>-0.89</td><td>-2.3</td><td>-0.74</td><td>-2.09</td><td>-1.86</td></tr><tr><th>7</th><td>1927-07-31</td><td>3.02</td><td>4.14</td><td>6.95</td><td>3.28</td><td>7.87</td><td>9.4</td></tr><tr><th>8</th><td>1927-08-31</td><td>-0.02</td><td>0.04</td><td>0.09</td><td>1.29</td><td>2.11</td><td>3.35</td></tr><tr><th>9</th><td>1927-09-30</td><td>2.5</td><td>0.35</td><td>2.82</td><td>3.36</td><td>4.88</td><td>6.23</td></tr><tr><th>10</th><td>1927-10-31</td><td>-4.34</td><td>-1.87</td><td>-3.52</td><td>-4.54</td><td>-3.39</td><td>-5.5</td></tr><tr><th>11</th><td>1927-11-30</td><td>11.52</td><td>8.56</td><td>6.98</td><td>5.1</td><td>6.61</td><td>8.35</td></tr><tr><th>12</th><td>1927-12-31</td><td>0.2</td><td>5.78</td><td>4.4</td><td>7.7</td><td>1.7</td><td>3.45</td></tr><tr><th>13</th><td>1928-01-31</td><td>3.25</td><td>3.62</td><td>0.73</td><td>-2.17</td><td>-0.47</td><td>-0.86</td></tr><tr><th>14</th><td>1928-02-29</td><td>-3.19</td><td>-2.28</td><td>-4.85</td><td>-0.76</td><td>-1.04</td><td>-1.35</td></tr><tr><th>15</th><td>1928-03-31</td><td>6.25</td><td>7.36</td><td>7.83</td><td>6.98</td><td>5.33</td><td>14.84</td></tr><tr><th>16</th><td>1928-04-30</td><td>7.88</td><td>10.47</td><td>6.14</td><td>11.24</td><td>4.05</td><td>2.03</td></tr><tr><th>17</th><td>1928-05-31</td><td>3.07</td><td>2.37</td><td>3.28</td><td>-1.5</td><td>1.06</td><td>3.7</td></tr><tr><th>18</th><td>1928-06-30</td><td>-9.31</td><td>-6.97</td><td>-6.14</td><td>-5.19</td><td>-4.07</td><td>-4.34</td></tr><tr><th>19</th><td>1928-07-31</td><td>-1.43</td><td>-0.32</td><td>1.76</td><td>-0.2</td><td>0.77</td><td>1.39</td></tr><tr><th>20</th><td>1928-08-31</td><td>4.52</td><td>4.18</td><td>6.58</td><td>4.4</td><td>6.21</td><td>9.67</td></tr><tr><th>21</th><td>1928-09-30</td><td>3.75</td><td>4.88</td><td>7.89</td><td>1.58</td><td>1.87</td><td>4.89</td></tr><tr><th>22</th><td>1928-10-31</td><td>0.08</td><td>1.39</td><td>5.48</td><td>0.85</td><td>0.78</td><td>3.69</td></tr><tr><th>23</th><td>1928-11-30</td><td>10.77</td><td>12.38</td><td>10.55</td><td>8.61</td><td>13.48</td><td>12.42</td></tr><tr><th>24</th><td>1928-12-31</td><td>-2.63</td><td>0.22</td><td>-1.56</td><td>-0.48</td><td>-0.05</td><td>1.67</td></tr><tr><th>25</th><td>1929-01-31</td><td>0.04</td><td>2.01</td><td>3.12</td><td>3.92</td><td>4.94</td><td>5.74</td></tr><tr><th>26</th><td>1929-02-28</td><td>-0.23</td><td>0.83</td><td>5.03</td><td>-0.65</td><td>-1.07</td><td>1.14</td></tr><tr><th>27</th><td>1929-03-31</td><td>-4.39</td><td>-5.66</td><td>-4.18</td><td>-0.24</td><td>0.92</td><td>-1.52</td></tr><tr><th>28</th><td>1929-04-30</td><td>1.91</td><td>-0.45</td><td>2.08</td><td>-1.74</td><td>1.7</td><td>2.75</td></tr><tr><th>29</th><td>1929-05-31</td><td>-10.67</td><td>-9.54</td><td>-13.01</td><td>-9.19</td><td>-4.48</td><td>-6.89</td></tr><tr><th>30</th><td>1929-06-30</td><td>3.97</td><td>6.66</td><td>11.36</td><td>5.01</td><td>7.64</td><td>14.44</td></tr><tr><th>&vellip;</th><td>&vellip;</td><td>&vellip;</td><td>&vellip;</td><td>&vellip;</td><td>&vellip;</td><td>&vellip;</td><td>&vellip;</td></tr></table>"
       ],
       "metadata": {},
       "output_type": "pyout",
       "prompt_number": 14,
       "text": [
        "Timematr{Date{ISOCalendar}}(1049x6 DataFrame\n",
        "|-------|--------|-------|-------|-------|-------|-------|\n",
        "| Row # | MKT_RF | SMB   | HML   | RF    | x5    | x6    |\n",
        "| 1     | 0.01   | 3.79  | 0.39  | -0.63 | 0.23  | 0.0   |\n",
        "| 2     | 7.13   | 6.24  | 5.75  | 5.59  | 3.78  | 4.49  |\n",
        "| 3     | -3.26  | -2.95 | -2.3  | -7.66 | -0.22 | 2.29  |\n",
        "| 4     | -0.56  | -0.96 | 3.36  | -1.9  | 0.78  | 1.89  |\n",
        "| 5     | 2.47   | 11.39 | 7.0   | 4.21  | 4.87  | 7.1   |\n",
        "| 6     | -2.13  | -0.89 | -2.3  | -0.74 | -2.09 | -1.86 |\n",
        "| 7     | 3.02   | 4.14  | 6.95  | 3.28  | 7.87  | 9.4   |\n",
        "| 8     | -0.02  | 0.04  | 0.09  | 1.29  | 2.11  | 3.35  |\n",
        "| 9     | 2.5    | 0.35  | 2.82  | 3.36  | 4.88  | 6.23  |\n",
        "| 10    | -4.34  | -1.87 | -3.52 | -4.54 | -3.39 | -5.5  |\n",
        "| 11    | 11.52  | 8.56  | 6.98  | 5.1   | 6.61  | 8.35  |\n",
        "\u22ee\n",
        "| 1038  | -0.32  | 0.3   | 0.51  | -2.66 | -0.55 | -2.19 |\n",
        "| 1039  | 7.23   | 7.29  | 8.27  | 4.74  | 5.08  | 7.07  |\n",
        "| 1040  | -3.2   | -3.05 | -2.42 | -2.25 | -2.79 | -2.92 |\n",
        "| 1041  | 5.05   | 5.76  | 7.45  | 1.93  | 3.86  | 5.58  |\n",
        "| 1042  | 2.14   | 3.52  | 2.25  | 3.49  | 5.13  | 3.7   |\n",
        "| 1043  | 4.84   | 4.97  | 4.47  | 2.35  | 3.18  | 3.46  |\n",
        "| 1044  | 2.89   | 1.63  | 2.76  | 2.82  | 2.48  | 3.04  |\n",
        "| 1045  | -2.48  | -3.55 | -2.59 | -5.0  | -3.35 | -1.51 |\n",
        "| 1046  | 3.9    | 4.12  | 5.49  | 3.9   | 4.13  | 6.62  |\n",
        "| 1047  | 0.61   | 1.5   | -1.2  | 2.02  | 1.63  | -2.72 |\n",
        "| 1048  | -2.45  | -3.03 | -5.27 | 2.7   | 0.73  | -2.23 |\n",
        "| 1049  | 0.64   | 0.89  | -0.5  | 0.61  | 2.4   | 3.43  |,[1927-01-31,1927-02-28,1927-03-31,1927-04-30,1927-05-31,1927-06-30,1927-07-31,1927-08-31,1927-09-30,1927-10-31  \u2026  2013-08-31,2013-09-30,2013-10-31,2013-11-30,2013-12-31,2014-01-31,2014-02-28,2014-03-31,2014-04-30,2014-05-31])"
       ]
      }
     ],
     "prompt_number": 14
    },
    {
     "cell_type": "code",
     "collapsed": false,
     "input": [],
     "language": "python",
     "metadata": {},
     "outputs": [],
     "prompt_number": 15
    },
    {
     "cell_type": "code",
     "collapsed": false,
     "input": [],
     "language": "python",
     "metadata": {},
     "outputs": []
    }
   ],
   "metadata": {}
  }
 ]
}